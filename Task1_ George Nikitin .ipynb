{
 "cells": [
  {
   "cell_type": "code",
   "execution_count": 1,
   "metadata": {},
   "outputs": [],
   "source": [
    "import numpy as np\n",
    "import pandas as pd\n",
    "import matplotlib.pyplot as plt\n",
    "%matplotlib inline\n",
    "import seaborn as sns\n",
    "\n",
    "from sklearn.linear_model import LinearRegression\n",
    "from sklearn.model_selection import train_test_split\n",
    "from sklearn.preprocessing import StandardScaler\n",
    "\n",
    "from sklearn.metrics import mean_absolute_error, mean_squared_error, mean_absolute_percentage_error, mean_squared_log_error\n",
    "from sklearn.metrics import r2_score"
   ]
  },
  {
   "cell_type": "markdown",
   "metadata": {},
   "source": [
    "**Задание:**\n",
    "\n",
    "Для приведенного выше датасета, построить модель линейной регрессии для\n",
    "оценивания стоимости аренды недвижимости. Для решения задачи предлагается\n",
    "использовать следующие подходы:\n",
    "1. Получить решение задачи в замкнутом виде с помощью псевдообратной\n",
    "матрицы. Рассмотреть случаи без регуляризации и с 𝐿 регуляризацией.\n",
    "2\n",
    "2. Получить решение задачи методом градиентного спуска. Получить формулу\n",
    "для градиента, используя матрицу признаков. Сравнить полученные решение с\n",
    "п.1."
   ]
  },
  {
   "cell_type": "markdown",
   "metadata": {},
   "source": [
    "**описание датасета:**\n",
    "\n",
    "BHK: Number of Bedrooms, Hall, Kitchen.\n",
    "\n",
    "Rent: Rent of the Houses/Apartments/Flats.\n",
    "\n",
    "Size: Size of the Houses/Apartments/Flats in Square Feet.\n",
    "\n",
    "Floor: Houses/Apartments/Flats situated in which Floor and Total Number of Floors (Example: Ground out of 2, 3 out of 5, etc.)\n",
    "\n",
    "Area Type: Size of the Houses/Apartments/Flats calculated on either Super Area or Carpet Area or Build Area.\n",
    "\n",
    "Area Locality: Locality of the Houses/Apartments/Flats.\n",
    "\n",
    "City: City where the Houses/Apartments/Flats are Located.\n",
    "\n",
    "Furnishing Status: Furnishing Status of the Houses/Apartments/Flats, either it is Furnished or Semi-Furnished or Unfurnished.\n",
    "\n",
    "Tenant Preferred: Type of Tenant Preferred by the Owner or Agent.\n",
    "\n",
    "Bathroom: Number of Bathrooms.\n",
    "\n",
    "Point of Contact: Whom should you contact for more information regarding the Houses/Apartments/Flats."
   ]
  },
  {
   "cell_type": "markdown",
   "metadata": {},
   "source": [
    "**Целевая метка - Rent**"
   ]
  },
  {
   "cell_type": "markdown",
   "metadata": {},
   "source": [
    "**считываем датасет**"
   ]
  },
  {
   "cell_type": "code",
   "execution_count": 2,
   "metadata": {},
   "outputs": [],
   "source": [
    "df = pd.read_csv('House_Rent_Dataset.csv')"
   ]
  },
  {
   "cell_type": "code",
   "execution_count": 3,
   "metadata": {},
   "outputs": [
    {
     "name": "stdout",
     "output_type": "stream",
     "text": [
      "размер датасета: (4746, 12)\n"
     ]
    },
    {
     "data": {
      "text/html": [
       "<div>\n",
       "<style scoped>\n",
       "    .dataframe tbody tr th:only-of-type {\n",
       "        vertical-align: middle;\n",
       "    }\n",
       "\n",
       "    .dataframe tbody tr th {\n",
       "        vertical-align: top;\n",
       "    }\n",
       "\n",
       "    .dataframe thead th {\n",
       "        text-align: right;\n",
       "    }\n",
       "</style>\n",
       "<table border=\"1\" class=\"dataframe\">\n",
       "  <thead>\n",
       "    <tr style=\"text-align: right;\">\n",
       "      <th></th>\n",
       "      <th>Posted On</th>\n",
       "      <th>BHK</th>\n",
       "      <th>Rent</th>\n",
       "      <th>Size</th>\n",
       "      <th>Floor</th>\n",
       "      <th>Area Type</th>\n",
       "      <th>Area Locality</th>\n",
       "      <th>City</th>\n",
       "      <th>Furnishing Status</th>\n",
       "      <th>Tenant Preferred</th>\n",
       "      <th>Bathroom</th>\n",
       "      <th>Point of Contact</th>\n",
       "    </tr>\n",
       "  </thead>\n",
       "  <tbody>\n",
       "    <tr>\n",
       "      <th>0</th>\n",
       "      <td>2022-05-18</td>\n",
       "      <td>2</td>\n",
       "      <td>10000</td>\n",
       "      <td>1100</td>\n",
       "      <td>Ground out of 2</td>\n",
       "      <td>Super Area</td>\n",
       "      <td>Bandel</td>\n",
       "      <td>Kolkata</td>\n",
       "      <td>Unfurnished</td>\n",
       "      <td>Bachelors/Family</td>\n",
       "      <td>2</td>\n",
       "      <td>Contact Owner</td>\n",
       "    </tr>\n",
       "    <tr>\n",
       "      <th>1</th>\n",
       "      <td>2022-05-13</td>\n",
       "      <td>2</td>\n",
       "      <td>20000</td>\n",
       "      <td>800</td>\n",
       "      <td>1 out of 3</td>\n",
       "      <td>Super Area</td>\n",
       "      <td>Phool Bagan, Kankurgachi</td>\n",
       "      <td>Kolkata</td>\n",
       "      <td>Semi-Furnished</td>\n",
       "      <td>Bachelors/Family</td>\n",
       "      <td>1</td>\n",
       "      <td>Contact Owner</td>\n",
       "    </tr>\n",
       "    <tr>\n",
       "      <th>2</th>\n",
       "      <td>2022-05-16</td>\n",
       "      <td>2</td>\n",
       "      <td>17000</td>\n",
       "      <td>1000</td>\n",
       "      <td>1 out of 3</td>\n",
       "      <td>Super Area</td>\n",
       "      <td>Salt Lake City Sector 2</td>\n",
       "      <td>Kolkata</td>\n",
       "      <td>Semi-Furnished</td>\n",
       "      <td>Bachelors/Family</td>\n",
       "      <td>1</td>\n",
       "      <td>Contact Owner</td>\n",
       "    </tr>\n",
       "    <tr>\n",
       "      <th>3</th>\n",
       "      <td>2022-07-04</td>\n",
       "      <td>2</td>\n",
       "      <td>10000</td>\n",
       "      <td>800</td>\n",
       "      <td>1 out of 2</td>\n",
       "      <td>Super Area</td>\n",
       "      <td>Dumdum Park</td>\n",
       "      <td>Kolkata</td>\n",
       "      <td>Unfurnished</td>\n",
       "      <td>Bachelors/Family</td>\n",
       "      <td>1</td>\n",
       "      <td>Contact Owner</td>\n",
       "    </tr>\n",
       "    <tr>\n",
       "      <th>4</th>\n",
       "      <td>2022-05-09</td>\n",
       "      <td>2</td>\n",
       "      <td>7500</td>\n",
       "      <td>850</td>\n",
       "      <td>1 out of 2</td>\n",
       "      <td>Carpet Area</td>\n",
       "      <td>South Dum Dum</td>\n",
       "      <td>Kolkata</td>\n",
       "      <td>Unfurnished</td>\n",
       "      <td>Bachelors</td>\n",
       "      <td>1</td>\n",
       "      <td>Contact Owner</td>\n",
       "    </tr>\n",
       "  </tbody>\n",
       "</table>\n",
       "</div>"
      ],
      "text/plain": [
       "    Posted On  BHK   Rent  Size            Floor    Area Type  \\\n",
       "0  2022-05-18    2  10000  1100  Ground out of 2   Super Area   \n",
       "1  2022-05-13    2  20000   800       1 out of 3   Super Area   \n",
       "2  2022-05-16    2  17000  1000       1 out of 3   Super Area   \n",
       "3  2022-07-04    2  10000   800       1 out of 2   Super Area   \n",
       "4  2022-05-09    2   7500   850       1 out of 2  Carpet Area   \n",
       "\n",
       "              Area Locality     City Furnishing Status  Tenant Preferred  \\\n",
       "0                    Bandel  Kolkata       Unfurnished  Bachelors/Family   \n",
       "1  Phool Bagan, Kankurgachi  Kolkata    Semi-Furnished  Bachelors/Family   \n",
       "2   Salt Lake City Sector 2  Kolkata    Semi-Furnished  Bachelors/Family   \n",
       "3               Dumdum Park  Kolkata       Unfurnished  Bachelors/Family   \n",
       "4             South Dum Dum  Kolkata       Unfurnished         Bachelors   \n",
       "\n",
       "   Bathroom Point of Contact  \n",
       "0         2    Contact Owner  \n",
       "1         1    Contact Owner  \n",
       "2         1    Contact Owner  \n",
       "3         1    Contact Owner  \n",
       "4         1    Contact Owner  "
      ]
     },
     "execution_count": 3,
     "metadata": {},
     "output_type": "execute_result"
    }
   ],
   "source": [
    "print(f'размер датасета: {df.shape}')\n",
    "df.head()"
   ]
  },
  {
   "cell_type": "code",
   "execution_count": 4,
   "metadata": {},
   "outputs": [
    {
     "name": "stdout",
     "output_type": "stream",
     "text": [
      "<class 'pandas.core.frame.DataFrame'>\n",
      "RangeIndex: 4746 entries, 0 to 4745\n",
      "Data columns (total 12 columns):\n",
      " #   Column             Non-Null Count  Dtype \n",
      "---  ------             --------------  ----- \n",
      " 0   Posted On          4746 non-null   object\n",
      " 1   BHK                4746 non-null   int64 \n",
      " 2   Rent               4746 non-null   int64 \n",
      " 3   Size               4746 non-null   int64 \n",
      " 4   Floor              4746 non-null   object\n",
      " 5   Area Type          4746 non-null   object\n",
      " 6   Area Locality      4746 non-null   object\n",
      " 7   City               4746 non-null   object\n",
      " 8   Furnishing Status  4746 non-null   object\n",
      " 9   Tenant Preferred   4746 non-null   object\n",
      " 10  Bathroom           4746 non-null   int64 \n",
      " 11  Point of Contact   4746 non-null   object\n",
      "dtypes: int64(4), object(8)\n",
      "memory usage: 445.1+ KB\n"
     ]
    }
   ],
   "source": [
    "df.info()"
   ]
  },
  {
   "cell_type": "markdown",
   "metadata": {},
   "source": [
    "**более детально рассмотрим признаки**"
   ]
  },
  {
   "cell_type": "code",
   "execution_count": 15,
   "metadata": {},
   "outputs": [
    {
     "data": {
      "text/plain": [
       "2978      1 out of 1\n",
       "701     14 out of 18\n",
       "4134      5 out of 6\n",
       "75        1 out of 4\n",
       "2180      4 out of 5\n",
       "1036      1 out of 7\n",
       "3306     9 out of 18\n",
       "1004    11 out of 21\n",
       "4266      1 out of 6\n",
       "1569      1 out of 4\n",
       "Name: Floor, dtype: object"
      ]
     },
     "metadata": {},
     "output_type": "display_data"
    },
    {
     "name": "stdout",
     "output_type": "stream",
     "text": [
      "480\n"
     ]
    }
   ],
   "source": [
    "display(df.sample(10)['Floor'])\n",
    "print(df['Floor'].nunique())"
   ]
  },
  {
   "cell_type": "code",
   "execution_count": 26,
   "metadata": {},
   "outputs": [
    {
     "data": {
      "text/plain": [
       "3280                                           Medavakkam\n",
       "4268                     Upparpally, Hyderabad Expressway\n",
       "2471                                        Malviya Nagar\n",
       "2237                    Laxminarayana Layout, Munnekollal\n",
       "3715                       Teachers's Colony-Lakshmipuram\n",
       "3191                                   Tiruvenkadam Nagar\n",
       "2913                                               Burari\n",
       "27                             Kodalia, Hooghly-Chinsurah\n",
       "4480                                   Vijaya Puri Colony\n",
       "4129    Hormany nest Apartments gandipet Apartmentge h...\n",
       "Name: Area Locality, dtype: object"
      ]
     },
     "metadata": {},
     "output_type": "display_data"
    },
    {
     "name": "stdout",
     "output_type": "stream",
     "text": [
      "2235\n"
     ]
    }
   ],
   "source": [
    "display(df.sample(10)['Area Locality'])\n",
    "\n",
    "print(df['Area Locality'].nunique())"
   ]
  },
  {
   "cell_type": "code",
   "execution_count": 28,
   "metadata": {},
   "outputs": [
    {
     "data": {
      "text/plain": [
       "3843    2022-05-06\n",
       "1753    2022-07-02\n",
       "3598    2022-06-13\n",
       "1833    2022-06-04\n",
       "3511    2022-05-06\n",
       "1926    2022-07-07\n",
       "2125    2022-05-05\n",
       "4683    2022-06-02\n",
       "3327    2022-05-25\n",
       "2989    2022-05-20\n",
       "Name: Posted On, dtype: object"
      ]
     },
     "metadata": {},
     "output_type": "display_data"
    },
    {
     "name": "stdout",
     "output_type": "stream",
     "text": [
      "81\n"
     ]
    }
   ],
   "source": [
    "display(df.sample(10)['Posted On'])\n",
    "\n",
    "print(df['Posted On'].nunique())"
   ]
  },
  {
   "cell_type": "markdown",
   "metadata": {},
   "source": [
    "**Для удобства уберём признаки Floor, Area Locality, Posted On**\n",
    "\n",
    "Floor - в теории этот признак можно распарсить и получить полезную информацию\n",
    "\n",
    "Area Locality - ограничимся признаком City\n",
    "\n",
    "Posted On - кажется, что этот признак бесполезен"
   ]
  },
  {
   "cell_type": "code",
   "execution_count": 10,
   "metadata": {},
   "outputs": [],
   "source": [
    "features_to_drop = ['Floor', 'Area Locality', 'Posted On']"
   ]
  },
  {
   "cell_type": "markdown",
   "metadata": {},
   "source": [
    "**подготовка данных**"
   ]
  },
  {
   "cell_type": "code",
   "execution_count": 11,
   "metadata": {},
   "outputs": [
    {
     "name": "stdout",
     "output_type": "stream",
     "text": [
      "Posted On, nunique vals: 81\n",
      "BHK, nunique vals: 6\n",
      "Rent, nunique vals: 243\n",
      "Size, nunique vals: 615\n",
      "Floor, nunique vals: 480\n",
      "Area Type, nunique vals: 3\n",
      "Area Locality, nunique vals: 2235\n",
      "City, nunique vals: 6\n",
      "Furnishing Status, nunique vals: 3\n",
      "Tenant Preferred, nunique vals: 3\n",
      "Bathroom, nunique vals: 8\n",
      "Point of Contact, nunique vals: 3\n",
      "\n",
      "cat features: ['BHK', 'Area Type', 'City', 'Furnishing Status', 'Tenant Preferred', 'Point of Contact']\n",
      "num features: ['Rent', 'Size', 'Bathroom']\n"
     ]
    }
   ],
   "source": [
    "cat_features = []\n",
    "num_features = []\n",
    "\n",
    "for column in df.columns:\n",
    "    nunique_vals = df[column].nunique()\n",
    "    print(f\"{column}, nunique vals: {nunique_vals}\")\n",
    "    if column not in features_to_drop:\n",
    "        if nunique_vals <= 6:\n",
    "            cat_features.append(column)\n",
    "        else:\n",
    "            num_features.append(column)\n",
    "\n",
    "print('\\ncat features:', cat_features)\n",
    "print('num features:', num_features)"
   ]
  },
  {
   "cell_type": "code",
   "execution_count": 12,
   "metadata": {},
   "outputs": [
    {
     "data": {
      "text/html": [
       "<div>\n",
       "<style scoped>\n",
       "    .dataframe tbody tr th:only-of-type {\n",
       "        vertical-align: middle;\n",
       "    }\n",
       "\n",
       "    .dataframe tbody tr th {\n",
       "        vertical-align: top;\n",
       "    }\n",
       "\n",
       "    .dataframe thead th {\n",
       "        text-align: right;\n",
       "    }\n",
       "</style>\n",
       "<table border=\"1\" class=\"dataframe\">\n",
       "  <thead>\n",
       "    <tr style=\"text-align: right;\">\n",
       "      <th></th>\n",
       "      <th>Rent</th>\n",
       "      <th>Size</th>\n",
       "      <th>Bathroom</th>\n",
       "    </tr>\n",
       "  </thead>\n",
       "  <tbody>\n",
       "    <tr>\n",
       "      <th>0</th>\n",
       "      <td>10000</td>\n",
       "      <td>1100</td>\n",
       "      <td>2</td>\n",
       "    </tr>\n",
       "    <tr>\n",
       "      <th>1</th>\n",
       "      <td>20000</td>\n",
       "      <td>800</td>\n",
       "      <td>1</td>\n",
       "    </tr>\n",
       "    <tr>\n",
       "      <th>2</th>\n",
       "      <td>17000</td>\n",
       "      <td>1000</td>\n",
       "      <td>1</td>\n",
       "    </tr>\n",
       "    <tr>\n",
       "      <th>3</th>\n",
       "      <td>10000</td>\n",
       "      <td>800</td>\n",
       "      <td>1</td>\n",
       "    </tr>\n",
       "    <tr>\n",
       "      <th>4</th>\n",
       "      <td>7500</td>\n",
       "      <td>850</td>\n",
       "      <td>1</td>\n",
       "    </tr>\n",
       "  </tbody>\n",
       "</table>\n",
       "</div>"
      ],
      "text/plain": [
       "    Rent  Size  Bathroom\n",
       "0  10000  1100         2\n",
       "1  20000   800         1\n",
       "2  17000  1000         1\n",
       "3  10000   800         1\n",
       "4   7500   850         1"
      ]
     },
     "execution_count": 12,
     "metadata": {},
     "output_type": "execute_result"
    }
   ],
   "source": [
    "df[num_features].head()"
   ]
  },
  {
   "cell_type": "code",
   "execution_count": 13,
   "metadata": {},
   "outputs": [
    {
     "data": {
      "image/png": "[encoded data removed]",
      "text/plain": [
       "<Figure size 640x480 with 1 Axes>"
      ]
     },
     "metadata": {},
     "output_type": "display_data"
    }
   ],
   "source": [
    "plt.title('Bathroom feature distribution:')\n",
    "plt.hist(df['Bathroom'], ec='k')\n",
    "plt.show()"
   ]
  },
  {
   "cell_type": "code",
   "execution_count": 14,
   "metadata": {},
   "outputs": [],
   "source": [
    "df.drop(features_to_drop, axis=1, inplace=True)"
   ]
  },
  {
   "cell_type": "code",
   "execution_count": 15,
   "metadata": {},
   "outputs": [
    {
     "data": {
      "text/html": [
       "<div>\n",
       "<style scoped>\n",
       "    .dataframe tbody tr th:only-of-type {\n",
       "        vertical-align: middle;\n",
       "    }\n",
       "\n",
       "    .dataframe tbody tr th {\n",
       "        vertical-align: top;\n",
       "    }\n",
       "\n",
       "    .dataframe thead th {\n",
       "        text-align: right;\n",
       "    }\n",
       "</style>\n",
       "<table border=\"1\" class=\"dataframe\">\n",
       "  <thead>\n",
       "    <tr style=\"text-align: right;\">\n",
       "      <th></th>\n",
       "      <th>Rent</th>\n",
       "      <th>Size</th>\n",
       "      <th>Bathroom</th>\n",
       "    </tr>\n",
       "  </thead>\n",
       "  <tbody>\n",
       "    <tr>\n",
       "      <th>count</th>\n",
       "      <td>4.746000e+03</td>\n",
       "      <td>4746.000000</td>\n",
       "      <td>4746.000000</td>\n",
       "    </tr>\n",
       "    <tr>\n",
       "      <th>mean</th>\n",
       "      <td>3.499345e+04</td>\n",
       "      <td>967.490729</td>\n",
       "      <td>1.965866</td>\n",
       "    </tr>\n",
       "    <tr>\n",
       "      <th>std</th>\n",
       "      <td>7.810641e+04</td>\n",
       "      <td>634.202328</td>\n",
       "      <td>0.884532</td>\n",
       "    </tr>\n",
       "    <tr>\n",
       "      <th>min</th>\n",
       "      <td>1.200000e+03</td>\n",
       "      <td>10.000000</td>\n",
       "      <td>1.000000</td>\n",
       "    </tr>\n",
       "    <tr>\n",
       "      <th>25%</th>\n",
       "      <td>1.000000e+04</td>\n",
       "      <td>550.000000</td>\n",
       "      <td>1.000000</td>\n",
       "    </tr>\n",
       "    <tr>\n",
       "      <th>50%</th>\n",
       "      <td>1.600000e+04</td>\n",
       "      <td>850.000000</td>\n",
       "      <td>2.000000</td>\n",
       "    </tr>\n",
       "    <tr>\n",
       "      <th>75%</th>\n",
       "      <td>3.300000e+04</td>\n",
       "      <td>1200.000000</td>\n",
       "      <td>2.000000</td>\n",
       "    </tr>\n",
       "    <tr>\n",
       "      <th>max</th>\n",
       "      <td>3.500000e+06</td>\n",
       "      <td>8000.000000</td>\n",
       "      <td>10.000000</td>\n",
       "    </tr>\n",
       "  </tbody>\n",
       "</table>\n",
       "</div>"
      ],
      "text/plain": [
       "               Rent         Size     Bathroom\n",
       "count  4.746000e+03  4746.000000  4746.000000\n",
       "mean   3.499345e+04   967.490729     1.965866\n",
       "std    7.810641e+04   634.202328     0.884532\n",
       "min    1.200000e+03    10.000000     1.000000\n",
       "25%    1.000000e+04   550.000000     1.000000\n",
       "50%    1.600000e+04   850.000000     2.000000\n",
       "75%    3.300000e+04  1200.000000     2.000000\n",
       "max    3.500000e+06  8000.000000    10.000000"
      ]
     },
     "execution_count": 15,
     "metadata": {},
     "output_type": "execute_result"
    }
   ],
   "source": [
    "df[num_features].describe()"
   ]
  },
  {
   "cell_type": "markdown",
   "metadata": {},
   "source": [
    "**кодируем категориальные признаки с помощью One Hot Encoding**"
   ]
  },
  {
   "cell_type": "code",
   "execution_count": 16,
   "metadata": {},
   "outputs": [
    {
     "data": {
      "text/html": [
       "<div>\n",
       "<style scoped>\n",
       "    .dataframe tbody tr th:only-of-type {\n",
       "        vertical-align: middle;\n",
       "    }\n",
       "\n",
       "    .dataframe tbody tr th {\n",
       "        vertical-align: top;\n",
       "    }\n",
       "\n",
       "    .dataframe thead th {\n",
       "        text-align: right;\n",
       "    }\n",
       "</style>\n",
       "<table border=\"1\" class=\"dataframe\">\n",
       "  <thead>\n",
       "    <tr style=\"text-align: right;\">\n",
       "      <th></th>\n",
       "      <th>Rent</th>\n",
       "      <th>Size</th>\n",
       "      <th>Bathroom</th>\n",
       "      <th>BHK_1</th>\n",
       "      <th>BHK_2</th>\n",
       "      <th>BHK_3</th>\n",
       "      <th>BHK_4</th>\n",
       "      <th>BHK_5</th>\n",
       "      <th>BHK_6</th>\n",
       "      <th>Area Type_Built Area</th>\n",
       "      <th>...</th>\n",
       "      <th>City_Mumbai</th>\n",
       "      <th>Furnishing Status_Furnished</th>\n",
       "      <th>Furnishing Status_Semi-Furnished</th>\n",
       "      <th>Furnishing Status_Unfurnished</th>\n",
       "      <th>Tenant Preferred_Bachelors</th>\n",
       "      <th>Tenant Preferred_Bachelors/Family</th>\n",
       "      <th>Tenant Preferred_Family</th>\n",
       "      <th>Point of Contact_Contact Agent</th>\n",
       "      <th>Point of Contact_Contact Builder</th>\n",
       "      <th>Point of Contact_Contact Owner</th>\n",
       "    </tr>\n",
       "  </thead>\n",
       "  <tbody>\n",
       "    <tr>\n",
       "      <th>0</th>\n",
       "      <td>10000</td>\n",
       "      <td>1100</td>\n",
       "      <td>2</td>\n",
       "      <td>0</td>\n",
       "      <td>1</td>\n",
       "      <td>0</td>\n",
       "      <td>0</td>\n",
       "      <td>0</td>\n",
       "      <td>0</td>\n",
       "      <td>0</td>\n",
       "      <td>...</td>\n",
       "      <td>0</td>\n",
       "      <td>0</td>\n",
       "      <td>0</td>\n",
       "      <td>1</td>\n",
       "      <td>0</td>\n",
       "      <td>1</td>\n",
       "      <td>0</td>\n",
       "      <td>0</td>\n",
       "      <td>0</td>\n",
       "      <td>1</td>\n",
       "    </tr>\n",
       "    <tr>\n",
       "      <th>1</th>\n",
       "      <td>20000</td>\n",
       "      <td>800</td>\n",
       "      <td>1</td>\n",
       "      <td>0</td>\n",
       "      <td>1</td>\n",
       "      <td>0</td>\n",
       "      <td>0</td>\n",
       "      <td>0</td>\n",
       "      <td>0</td>\n",
       "      <td>0</td>\n",
       "      <td>...</td>\n",
       "      <td>0</td>\n",
       "      <td>0</td>\n",
       "      <td>1</td>\n",
       "      <td>0</td>\n",
       "      <td>0</td>\n",
       "      <td>1</td>\n",
       "      <td>0</td>\n",
       "      <td>0</td>\n",
       "      <td>0</td>\n",
       "      <td>1</td>\n",
       "    </tr>\n",
       "    <tr>\n",
       "      <th>2</th>\n",
       "      <td>17000</td>\n",
       "      <td>1000</td>\n",
       "      <td>1</td>\n",
       "      <td>0</td>\n",
       "      <td>1</td>\n",
       "      <td>0</td>\n",
       "      <td>0</td>\n",
       "      <td>0</td>\n",
       "      <td>0</td>\n",
       "      <td>0</td>\n",
       "      <td>...</td>\n",
       "      <td>0</td>\n",
       "      <td>0</td>\n",
       "      <td>1</td>\n",
       "      <td>0</td>\n",
       "      <td>0</td>\n",
       "      <td>1</td>\n",
       "      <td>0</td>\n",
       "      <td>0</td>\n",
       "      <td>0</td>\n",
       "      <td>1</td>\n",
       "    </tr>\n",
       "    <tr>\n",
       "      <th>3</th>\n",
       "      <td>10000</td>\n",
       "      <td>800</td>\n",
       "      <td>1</td>\n",
       "      <td>0</td>\n",
       "      <td>1</td>\n",
       "      <td>0</td>\n",
       "      <td>0</td>\n",
       "      <td>0</td>\n",
       "      <td>0</td>\n",
       "      <td>0</td>\n",
       "      <td>...</td>\n",
       "      <td>0</td>\n",
       "      <td>0</td>\n",
       "      <td>0</td>\n",
       "      <td>1</td>\n",
       "      <td>0</td>\n",
       "      <td>1</td>\n",
       "      <td>0</td>\n",
       "      <td>0</td>\n",
       "      <td>0</td>\n",
       "      <td>1</td>\n",
       "    </tr>\n",
       "    <tr>\n",
       "      <th>4</th>\n",
       "      <td>7500</td>\n",
       "      <td>850</td>\n",
       "      <td>1</td>\n",
       "      <td>0</td>\n",
       "      <td>1</td>\n",
       "      <td>0</td>\n",
       "      <td>0</td>\n",
       "      <td>0</td>\n",
       "      <td>0</td>\n",
       "      <td>0</td>\n",
       "      <td>...</td>\n",
       "      <td>0</td>\n",
       "      <td>0</td>\n",
       "      <td>0</td>\n",
       "      <td>1</td>\n",
       "      <td>1</td>\n",
       "      <td>0</td>\n",
       "      <td>0</td>\n",
       "      <td>0</td>\n",
       "      <td>0</td>\n",
       "      <td>1</td>\n",
       "    </tr>\n",
       "    <tr>\n",
       "      <th>...</th>\n",
       "      <td>...</td>\n",
       "      <td>...</td>\n",
       "      <td>...</td>\n",
       "      <td>...</td>\n",
       "      <td>...</td>\n",
       "      <td>...</td>\n",
       "      <td>...</td>\n",
       "      <td>...</td>\n",
       "      <td>...</td>\n",
       "      <td>...</td>\n",
       "      <td>...</td>\n",
       "      <td>...</td>\n",
       "      <td>...</td>\n",
       "      <td>...</td>\n",
       "      <td>...</td>\n",
       "      <td>...</td>\n",
       "      <td>...</td>\n",
       "      <td>...</td>\n",
       "      <td>...</td>\n",
       "      <td>...</td>\n",
       "      <td>...</td>\n",
       "    </tr>\n",
       "    <tr>\n",
       "      <th>4741</th>\n",
       "      <td>15000</td>\n",
       "      <td>1000</td>\n",
       "      <td>2</td>\n",
       "      <td>0</td>\n",
       "      <td>1</td>\n",
       "      <td>0</td>\n",
       "      <td>0</td>\n",
       "      <td>0</td>\n",
       "      <td>0</td>\n",
       "      <td>0</td>\n",
       "      <td>...</td>\n",
       "      <td>0</td>\n",
       "      <td>0</td>\n",
       "      <td>1</td>\n",
       "      <td>0</td>\n",
       "      <td>0</td>\n",
       "      <td>1</td>\n",
       "      <td>0</td>\n",
       "      <td>0</td>\n",
       "      <td>0</td>\n",
       "      <td>1</td>\n",
       "    </tr>\n",
       "    <tr>\n",
       "      <th>4742</th>\n",
       "      <td>29000</td>\n",
       "      <td>2000</td>\n",
       "      <td>3</td>\n",
       "      <td>0</td>\n",
       "      <td>0</td>\n",
       "      <td>1</td>\n",
       "      <td>0</td>\n",
       "      <td>0</td>\n",
       "      <td>0</td>\n",
       "      <td>0</td>\n",
       "      <td>...</td>\n",
       "      <td>0</td>\n",
       "      <td>0</td>\n",
       "      <td>1</td>\n",
       "      <td>0</td>\n",
       "      <td>0</td>\n",
       "      <td>1</td>\n",
       "      <td>0</td>\n",
       "      <td>0</td>\n",
       "      <td>0</td>\n",
       "      <td>1</td>\n",
       "    </tr>\n",
       "    <tr>\n",
       "      <th>4743</th>\n",
       "      <td>35000</td>\n",
       "      <td>1750</td>\n",
       "      <td>3</td>\n",
       "      <td>0</td>\n",
       "      <td>0</td>\n",
       "      <td>1</td>\n",
       "      <td>0</td>\n",
       "      <td>0</td>\n",
       "      <td>0</td>\n",
       "      <td>0</td>\n",
       "      <td>...</td>\n",
       "      <td>0</td>\n",
       "      <td>0</td>\n",
       "      <td>1</td>\n",
       "      <td>0</td>\n",
       "      <td>0</td>\n",
       "      <td>1</td>\n",
       "      <td>0</td>\n",
       "      <td>1</td>\n",
       "      <td>0</td>\n",
       "      <td>0</td>\n",
       "    </tr>\n",
       "    <tr>\n",
       "      <th>4744</th>\n",
       "      <td>45000</td>\n",
       "      <td>1500</td>\n",
       "      <td>2</td>\n",
       "      <td>0</td>\n",
       "      <td>0</td>\n",
       "      <td>1</td>\n",
       "      <td>0</td>\n",
       "      <td>0</td>\n",
       "      <td>0</td>\n",
       "      <td>0</td>\n",
       "      <td>...</td>\n",
       "      <td>0</td>\n",
       "      <td>0</td>\n",
       "      <td>1</td>\n",
       "      <td>0</td>\n",
       "      <td>0</td>\n",
       "      <td>0</td>\n",
       "      <td>1</td>\n",
       "      <td>1</td>\n",
       "      <td>0</td>\n",
       "      <td>0</td>\n",
       "    </tr>\n",
       "    <tr>\n",
       "      <th>4745</th>\n",
       "      <td>15000</td>\n",
       "      <td>1000</td>\n",
       "      <td>2</td>\n",
       "      <td>0</td>\n",
       "      <td>1</td>\n",
       "      <td>0</td>\n",
       "      <td>0</td>\n",
       "      <td>0</td>\n",
       "      <td>0</td>\n",
       "      <td>0</td>\n",
       "      <td>...</td>\n",
       "      <td>0</td>\n",
       "      <td>0</td>\n",
       "      <td>0</td>\n",
       "      <td>1</td>\n",
       "      <td>1</td>\n",
       "      <td>0</td>\n",
       "      <td>0</td>\n",
       "      <td>0</td>\n",
       "      <td>0</td>\n",
       "      <td>1</td>\n",
       "    </tr>\n",
       "  </tbody>\n",
       "</table>\n",
       "<p>4746 rows × 27 columns</p>\n",
       "</div>"
      ],
      "text/plain": [
       "       Rent  Size  Bathroom  BHK_1  BHK_2  BHK_3  BHK_4  BHK_5  BHK_6  \\\n",
       "0     10000  1100         2      0      1      0      0      0      0   \n",
       "1     20000   800         1      0      1      0      0      0      0   \n",
       "2     17000  1000         1      0      1      0      0      0      0   \n",
       "3     10000   800         1      0      1      0      0      0      0   \n",
       "4      7500   850         1      0      1      0      0      0      0   \n",
       "...     ...   ...       ...    ...    ...    ...    ...    ...    ...   \n",
       "4741  15000  1000         2      0      1      0      0      0      0   \n",
       "4742  29000  2000         3      0      0      1      0      0      0   \n",
       "4743  35000  1750         3      0      0      1      0      0      0   \n",
       "4744  45000  1500         2      0      0      1      0      0      0   \n",
       "4745  15000  1000         2      0      1      0      0      0      0   \n",
       "\n",
       "      Area Type_Built Area  ...  City_Mumbai  Furnishing Status_Furnished  \\\n",
       "0                        0  ...            0                            0   \n",
       "1                        0  ...            0                            0   \n",
       "2                        0  ...            0                            0   \n",
       "3                        0  ...            0                            0   \n",
       "4                        0  ...            0                            0   \n",
       "...                    ...  ...          ...                          ...   \n",
       "4741                     0  ...            0                            0   \n",
       "4742                     0  ...            0                            0   \n",
       "4743                     0  ...            0                            0   \n",
       "4744                     0  ...            0                            0   \n",
       "4745                     0  ...            0                            0   \n",
       "\n",
       "      Furnishing Status_Semi-Furnished  Furnishing Status_Unfurnished  \\\n",
       "0                                    0                              1   \n",
       "1                                    1                              0   \n",
       "2                                    1                              0   \n",
       "3                                    0                              1   \n",
       "4                                    0                              1   \n",
       "...                                ...                            ...   \n",
       "4741                                 1                              0   \n",
       "4742                                 1                              0   \n",
       "4743                                 1                              0   \n",
       "4744                                 1                              0   \n",
       "4745                                 0                              1   \n",
       "\n",
       "      Tenant Preferred_Bachelors  Tenant Preferred_Bachelors/Family  \\\n",
       "0                              0                                  1   \n",
       "1                              0                                  1   \n",
       "2                              0                                  1   \n",
       "3                              0                                  1   \n",
       "4                              1                                  0   \n",
       "...                          ...                                ...   \n",
       "4741                           0                                  1   \n",
       "4742                           0                                  1   \n",
       "4743                           0                                  1   \n",
       "4744                           0                                  0   \n",
       "4745                           1                                  0   \n",
       "\n",
       "      Tenant Preferred_Family  Point of Contact_Contact Agent  \\\n",
       "0                           0                               0   \n",
       "1                           0                               0   \n",
       "2                           0                               0   \n",
       "3                           0                               0   \n",
       "4                           0                               0   \n",
       "...                       ...                             ...   \n",
       "4741                        0                               0   \n",
       "4742                        0                               0   \n",
       "4743                        0                               1   \n",
       "4744                        1                               1   \n",
       "4745                        0                               0   \n",
       "\n",
       "      Point of Contact_Contact Builder  Point of Contact_Contact Owner  \n",
       "0                                    0                               1  \n",
       "1                                    0                               1  \n",
       "2                                    0                               1  \n",
       "3                                    0                               1  \n",
       "4                                    0                               1  \n",
       "...                                ...                             ...  \n",
       "4741                                 0                               1  \n",
       "4742                                 0                               1  \n",
       "4743                                 0                               0  \n",
       "4744                                 0                               0  \n",
       "4745                                 0                               1  \n",
       "\n",
       "[4746 rows x 27 columns]"
      ]
     },
     "execution_count": 16,
     "metadata": {},
     "output_type": "execute_result"
    }
   ],
   "source": [
    "df_ohe = pd.get_dummies(df, columns=cat_features).astype(int)\n",
    "df_ohe"
   ]
  },
  {
   "cell_type": "markdown",
   "metadata": {},
   "source": [
    "**рассмотрим корреляцию вещественных признаков**\n",
    "\n",
    "численные признаки хорошо коррелируют с таргетом, вероятно они будут важны при построении линейной модели"
   ]
  },
  {
   "cell_type": "code",
   "execution_count": null,
   "metadata": {},
   "outputs": [
    {
     "data": {
      "text/plain": [
       "<Axes: >"
      ]
     },
     "metadata": {},
     "output_type": "display_data"
    },
    {
     "data": {
      "image/png": "[encoded data removed]",
      "text/plain": [
       "<Figure size 640x480 with 2 Axes>"
      ]
     },
     "metadata": {},
     "output_type": "display_data"
    }
   ],
   "source": [
    "sns.heatmap(df_ohe[num_features].corr(), annot=True)"
   ]
  },
  {
   "cell_type": "markdown",
   "metadata": {},
   "source": [
    "**обучение модели**"
   ]
  },
  {
   "cell_type": "code",
   "execution_count": 15,
   "metadata": {},
   "outputs": [
    {
     "data": {
      "image/png": "[encoded data removed]",
      "text/plain": [
       "<Figure size 640x480 with 1 Axes>"
      ]
     },
     "metadata": {},
     "output_type": "display_data"
    }
   ],
   "source": [
    "plt.title('Распределение целевого признака:')\n",
    "plt.hist(df['Rent'], bins=30, ec='k')\n",
    "plt.show()"
   ]
  },
  {
   "cell_type": "markdown",
   "metadata": {},
   "source": [
    "разбиваем данные да обучение и тест"
   ]
  },
  {
   "cell_type": "code",
   "execution_count": 17,
   "metadata": {},
   "outputs": [],
   "source": [
    "X_train, X_test, y_train, y_test = train_test_split(df_ohe.loc[:, df_ohe.columns != 'Rent'], df_ohe['Rent'], \n",
    "                                                    test_size=0.2, random_state=42, shuffle=True)"
   ]
  },
  {
   "cell_type": "code",
   "execution_count": 18,
   "metadata": {},
   "outputs": [
    {
     "name": "stdout",
     "output_type": "stream",
     "text": [
      "(3796, 26) (950, 26)\n"
     ]
    }
   ],
   "source": [
    "print(X_train.shape, X_test.shape)"
   ]
  },
  {
   "cell_type": "markdown",
   "metadata": {},
   "source": [
    "нормируем числовые признаки"
   ]
  },
  {
   "cell_type": "code",
   "execution_count": 38,
   "metadata": {},
   "outputs": [],
   "source": [
    "scale_features = ['Size', 'Bathroom']\n",
    "scaler = StandardScaler()\n",
    "\n",
    "X_train[scale_features] = scaler.fit_transform(X_train[scale_features])\n",
    "X_test[scale_features] = scaler.transform(X_test[scale_features])"
   ]
  },
  {
   "cell_type": "markdown",
   "metadata": {},
   "source": [
    "учим модель и смотрим метрики"
   ]
  },
  {
   "cell_type": "code",
   "execution_count": 39,
   "metadata": {},
   "outputs": [],
   "source": [
    "def check_metrics(y_test, y_pred):\n",
    "    metrics = [mean_absolute_error, mean_squared_error, mean_absolute_percentage_error, r2_score]\n",
    "\n",
    "    for metric in metrics:\n",
    "        if metric.__name__ == 'mean_squared_error':\n",
    "            print(f\"root_{metric.__name__}, {np.sqrt(metric(y_test, y_pred))}\")\n",
    "        print(f\"{metric.__name__}, {metric(y_test, y_pred)}\")"
   ]
  },
  {
   "cell_type": "markdown",
   "metadata": {},
   "source": [
    "**проверка качества для реализованной модели**"
   ]
  },
  {
   "cell_type": "code",
   "execution_count": 40,
   "metadata": {},
   "outputs": [
    {
     "name": "stdout",
     "output_type": "stream",
     "text": [
      "mean_absolute_error, 19485.345263157895\n",
      "root_mean_squared_error, 42057.36934223863\n",
      "mean_squared_error, 1768822315.9894736\n",
      "mean_absolute_percentage_error, 0.9035464684611079\n",
      "r2_score, 0.5561723771907251\n"
     ]
    }
   ],
   "source": [
    "model = LinearRegression()\n",
    "model.fit(X_train, y_train)\n",
    "\n",
    "check_metrics(y_test, model.predict(X_test))"
   ]
  },
  {
   "cell_type": "markdown",
   "metadata": {},
   "source": [
    "# реализуем руками то, что было использовано выше\n",
    "\n",
    "модель линейной регрессии для предсказания использует веса, вычислямые следующим образом:\n",
    "\n",
    "$$w = (X^{T}X)^{-1} X^{T}y$$\n",
    "\n",
    "в случае добавления регуляризации:\n",
    "\n",
    "$$w = (X^{T}X + \\alpha I)^{-1} X^{T}y$$"
   ]
  },
  {
   "cell_type": "code",
   "execution_count": 169,
   "metadata": {},
   "outputs": [],
   "source": [
    "def logistic_regression_solution(X, Y, alpha=None):\n",
    "    #добавляем единичную матрицу для вычисления bias'а\n",
    "    ones_column = np.ones((len(X), 1))\n",
    "    X = np.hstack((X, ones_column))\n",
    "\n",
    "    X_inv = np.dot(np.linalg.inv(np.dot(X.T, X)), X.T)\n",
    "\n",
    "    if alpha is not None:\n",
    "        X_inv = np.dot(np.linalg.inv(np.dot(X.T, X) + alpha * np.identity(len(X[0]))), X.T)\n",
    "    \n",
    "    weights = np.dot(X_inv, Y).reshape(-1)\n",
    "\n",
    "    w = weights[:-1]\n",
    "    bias = weights[-1]\n",
    "\n",
    "    return w, bias"
   ]
  },
  {
   "cell_type": "markdown",
   "metadata": {},
   "source": [
    "**аналитическое решение линейной регрессии**"
   ]
  },
  {
   "cell_type": "code",
   "execution_count": 43,
   "metadata": {},
   "outputs": [
    {
     "name": "stdout",
     "output_type": "stream",
     "text": [
      "(26,) 740671.3986816406\n"
     ]
    }
   ],
   "source": [
    "w, bias = logistic_regression_solution(X_train.values, y_train.values)\n",
    "\n",
    "print(w.shape, bias)"
   ]
  },
  {
   "cell_type": "markdown",
   "metadata": {},
   "source": [
    "без регуляризации получаем просто гигантские значения метрик, что очень плохо"
   ]
  },
  {
   "cell_type": "code",
   "execution_count": 44,
   "metadata": {},
   "outputs": [
    {
     "name": "stdout",
     "output_type": "stream",
     "text": [
      "mean_absolute_error, 3637926.7327174135\n",
      "root_mean_squared_error, 4536275.063660111\n",
      "mean_squared_error, 20577791453184.543\n",
      "mean_absolute_percentage_error, 303.10400013744334\n",
      "r2_score, -5162.318090671501\n"
     ]
    }
   ],
   "source": [
    "check_metrics(y_test.values, np.dot(X_test, w) + bias)"
   ]
  },
  {
   "cell_type": "markdown",
   "metadata": {},
   "source": [
    "с регуляризацией результат сходится с реализованным методом в sklearn (по умолчанию там как раз стоит l2 penalty = 1)\n",
    "\n",
    "значит мы правильно реализовали аналитическое решение"
   ]
  },
  {
   "cell_type": "code",
   "execution_count": 170,
   "metadata": {},
   "outputs": [
    {
     "name": "stdout",
     "output_type": "stream",
     "text": [
      "mean_absolute_error, 19666.486874333666\n",
      "root_mean_squared_error, 42060.87539993346\n",
      "mean_squared_error, 1769117239.4087274\n",
      "mean_absolute_percentage_error, 0.9166613565386771\n",
      "r2_score, 0.5560983758855093\n"
     ]
    }
   ],
   "source": [
    "w, bias = logistic_regression_solution(X_train.values, y_train.values, alpha=10)\n",
    "\n",
    "y_pred = np.dot(X_test, w) + bias\n",
    "check_metrics(y_test.values, y_pred)"
   ]
  },
  {
   "cell_type": "markdown",
   "metadata": {},
   "source": [
    "в результате использования l2 регуляризации удалось существенно улучшить качество модели, l2 регуляризация позволяет стабилизировать рассчёт псевдообратной матрицы.\n",
    "\n",
    "Также получается, что l2 регуляризация помогает избавиться от переобучения в данном примере.\n",
    "\n",
    "Получившиеся значения метрик:\n",
    "\n",
    "1) MAE: 19481\n",
    "2) RMSE: 42056\n",
    "3) MAPE: 0.90\n",
    "4) R2: 0.55"
   ]
  },
  {
   "cell_type": "markdown",
   "metadata": {},
   "source": [
    "**важность признаков**\n",
    "\n",
    "наиболее важные признаки в линейной регрессии будут иметь наибольшие по модулю веса\n",
    "\n",
    "изобразим на графике наиболее важные признаки:"
   ]
  },
  {
   "cell_type": "code",
   "execution_count": 172,
   "metadata": {},
   "outputs": [],
   "source": [
    "features_dict = dict(zip(\n",
    "    list(X_train.columns), list(w)\n",
    "))\n",
    "\n",
    "features_dict = dict(sorted(features_dict.items(), key=lambda x: x[1], reverse=False))"
   ]
  },
  {
   "cell_type": "markdown",
   "metadata": {},
   "source": [
    "Самые важные признаки, которые сильнее всего влияеют на стоимость аренды - это площадь жилья, город жилья, и количество комнат (и ванных тоже).\n",
    "\n",
    "Это вполне логично и согласуется со здравым смыслом."
   ]
  },
  {
   "cell_type": "code",
   "execution_count": 181,
   "metadata": {},
   "outputs": [
    {
     "data": {
      "image/png": "[encoded data removed]",
      "text/plain": [
       "<Figure size 1200x500 with 1 Axes>"
      ]
     },
     "metadata": {},
     "output_type": "display_data"
    }
   ],
   "source": [
    "plt.figure(figsize=(12, 5))\n",
    "plt.title('Важность признаков:')\n",
    "bars = plt.barh(list(features_dict.keys()), \n",
    "                np.array(list(features_dict.values()))/1e4, ec='k')\n",
    "plt.bar_label(bars)\n",
    "plt.show()"
   ]
  },
  {
   "cell_type": "markdown",
   "metadata": {},
   "source": [
    "**в задании было предложено рассмотреть способы отбора с наиболее важных признаков - это признаки с наибольшими весами**\n",
    "\n",
    "**однако также можно использовать l1 регуляризацию, которая занулит шумовые признаки и оставит релевантные**"
   ]
  },
  {
   "cell_type": "markdown",
   "metadata": {},
   "source": [
    "# метод градиентного спуска\n",
    "$$h_{\\theta}(x) = \\sum_{j = 0}^{n}\\theta_{j}x_{j}$$\n",
    "\n",
    "$$J_{train}(\\theta) = \\frac{1}{m} \\sum_{i=1}^{m}(h_{\\theta}(x^{(i)}) - y^{(i)})^2$$\n",
    "\n",
    "repeat for each j = 0, ..., n:\n",
    "$$\\theta_{j} = \\theta_{j} - \\alpha \\frac{2}{m} \\sum_{i=1}^{m}(h_{\\theta}(x^{(i)}) - y^{(i)})x_{j}^{(i)}$$"
   ]
  },
  {
   "cell_type": "code",
   "execution_count": 156,
   "metadata": {},
   "outputs": [],
   "source": [
    "def weights_distance(w_0, w_1):\n",
    "   return np.sqrt(np.sum((w_0 - w_1)**2))\n",
    "\n",
    "def gradient_desc(X, Y, w_start=None, verbose=1000,\n",
    "                  learning_rate=1e-2, epsilon=1e-5, max_iteration=5e4, alpha=None):\n",
    "  assert isinstance(X, np.ndarray)\n",
    "  assert isinstance(Y, np.ndarray)\n",
    "  \n",
    "  ones_column = np.ones((len(X), 1))\n",
    "  X = np.hstack((X, ones_column))\n",
    "\n",
    "  if w_start is None:\n",
    "      w_start = np.zeros(X.shape[1]).reshape(-1, 1)\n",
    "  \n",
    "  w = w_start\n",
    "  w_dist = np.inf\n",
    "  step = 0\n",
    "\n",
    "  #повторяем шаг градиентного спуска до выполнения условий остановки\n",
    "  while (w_dist > epsilon) and (step < max_iteration):\n",
    "    #градиент в матричной форме\n",
    "    gradient_step = learning_rate * (2/len(X)) * np.dot(X.T, (np.dot(X, w).squeeze() - Y))\n",
    "    w_next = w - gradient_step.reshape(-1, 1)\n",
    "    # l2 регуляризация\n",
    "    if alpha is not None:\n",
    "      w_next[:-1] = w_next[:-1] - learning_rate * (2/len(X)) * alpha * w_next[:-1]\n",
    "    \n",
    "    w_dist = weights_distance(w, w_next)\n",
    "    step += 1\n",
    "    w = w_next\n",
    "    if step % verbose == 0:\n",
    "       print(f'step: {step}, w distance: {w_dist}')\n",
    "\n",
    "  bias = w[-1].reshape(-1)\n",
    "  weights = w[:-1].reshape(-1)\n",
    "  return weights, bias"
   ]
  },
  {
   "cell_type": "markdown",
   "metadata": {},
   "source": [
    "**градиентный спуск без регуляризации**"
   ]
  },
  {
   "cell_type": "code",
   "execution_count": 159,
   "metadata": {},
   "outputs": [
    {
     "name": "stdout",
     "output_type": "stream",
     "text": [
      "step: 10000, w distance: 1.0360811089673245\n",
      "step: 20000, w distance: 0.43956582938773214\n",
      "step: 30000, w distance: 0.206983674801336\n",
      "step: 40000, w distance: 0.09859265688537149\n",
      "step: 50000, w distance: 0.04708465918596943\n",
      "step: 60000, w distance: 0.022499068719397348\n",
      "step: 70000, w distance: 0.010752390707786521\n",
      "step: 80000, w distance: 0.005138753411360283\n",
      "step: 90000, w distance: 0.002455914407588049\n",
      "step: 100000, w distance: 0.0011737328899006588\n"
     ]
    }
   ],
   "source": [
    "weights, bias = gradient_desc(X_train.values, y_train.values, \n",
    "                              learning_rate=0.1, verbose=10000, max_iteration=1e5)"
   ]
  },
  {
   "cell_type": "code",
   "execution_count": 160,
   "metadata": {},
   "outputs": [
    {
     "name": "stdout",
     "output_type": "stream",
     "text": [
      "weights: [ 1.88421781e+04  9.35731138e+03 -2.23937168e+04 -2.75207397e+04\n",
      " -2.38672755e+04  2.88057381e+04  1.34285503e+05 -6.31589361e+04\n",
      "  1.20190940e+04  8.34206248e+03  5.78941700e+03  2.96343498e+01\n",
      " -6.08244443e+03  4.26331060e+03 -1.39316686e+04 -3.95070573e+03\n",
      "  4.58224473e+04  1.45138477e+04  6.88465621e+03  4.75206955e+03\n",
      "  1.33095711e+04  1.12166334e+04  1.62436906e+03  7.37363028e+03\n",
      "  2.09470129e+04 -2.17006963e+03]\n",
      "bias: [26150.57350194]\n"
     ]
    }
   ],
   "source": [
    "print(f\"weights: {weights}\")\n",
    "print(f\"bias: {bias}\")"
   ]
  },
  {
   "cell_type": "code",
   "execution_count": 161,
   "metadata": {},
   "outputs": [
    {
     "name": "stdout",
     "output_type": "stream",
     "text": [
      "mean_absolute_error, 19466.47025067602\n",
      "root_mean_squared_error, 42062.246278888175\n",
      "mean_squared_error, 1769232562.025842\n",
      "mean_absolute_percentage_error, 0.9026787043180202\n",
      "r2_score, 0.5560694394781904\n"
     ]
    }
   ],
   "source": [
    "y_pred_gd = np.dot(X_test.values, weights) + bias\n",
    "\n",
    "check_metrics(y_test, y_pred_gd)"
   ]
  },
  {
   "cell_type": "markdown",
   "metadata": {},
   "source": [
    "**с регуляризацией**\n",
    "\n",
    "тут можно заметить, что регуляризация не повлияла на процесс градиентного спуска и веса получились почти такими же"
   ]
  },
  {
   "cell_type": "code",
   "execution_count": 162,
   "metadata": {},
   "outputs": [
    {
     "name": "stdout",
     "output_type": "stream",
     "text": [
      "step: 10000, w distance: 1.078738918443612\n",
      "step: 20000, w distance: 0.7277854340430538\n",
      "step: 30000, w distance: 0.5867725626481157\n",
      "step: 40000, w distance: 0.48310973975694993\n",
      "step: 50000, w distance: 0.39874917369435253\n",
      "step: 60000, w distance: 0.3292164110512766\n",
      "step: 70000, w distance: 0.2718180715241421\n",
      "step: 80000, w distance: 0.22442797110544233\n",
      "step: 90000, w distance: 0.18530018593161132\n",
      "step: 100000, w distance: 0.15299412447771576\n"
     ]
    }
   ],
   "source": [
    "weights, bias = gradient_desc(X_train.values, y_train.values, \n",
    "                              learning_rate=0.1, verbose=10000, max_iteration=1e5, alpha=1)"
   ]
  },
  {
   "cell_type": "code",
   "execution_count": 163,
   "metadata": {},
   "outputs": [
    {
     "name": "stdout",
     "output_type": "stream",
     "text": [
      "mean_absolute_error, 19480.337501500773\n",
      "root_mean_squared_error, 42056.42671044052\n",
      "mean_squared_error, 1768743027.6506548\n",
      "mean_absolute_percentage_error, 0.9040761334799626\n",
      "r2_score, 0.5561922719843493\n"
     ]
    }
   ],
   "source": [
    "y_pred_gd = np.dot(X_test.values, weights) + bias\n",
    "\n",
    "check_metrics(y_test, y_pred_gd)"
   ]
  }
 ],
 "metadata": {
  "kernelspec": {
   "display_name": "gputest",
   "language": "python",
   "name": "python3"
  },
  "language_info": {
   "codemirror_mode": {
    "name": "ipython",
    "version": 3
   },
   "file_extension": ".py",
   "mimetype": "text/x-python",
   "name": "python",
   "nbconvert_exporter": "python",
   "pygments_lexer": "ipython3",
   "version": "3.11.3"
  }
 },
 "nbformat": 4,
 "nbformat_minor": 2
}
